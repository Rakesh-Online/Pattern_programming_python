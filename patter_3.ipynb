{
  "nbformat": 4,
  "nbformat_minor": 0,
  "metadata": {
    "colab": {
      "name": "patter_3.ipynb",
      "provenance": [],
      "authorship_tag": "ABX9TyO3pqkhXF+hkkxA5L6OKS9L",
      "include_colab_link": true
    },
    "kernelspec": {
      "name": "python3",
      "display_name": "Python 3"
    }
  },
  "cells": [
    {
      "cell_type": "markdown",
      "metadata": {
        "id": "view-in-github",
        "colab_type": "text"
      },
      "source": [
        "<a href=\"https://colab.research.google.com/github/Rakesh-Online/Pattern_programming_python/blob/master/patter_3.ipynb\" target=\"_parent\"><img src=\"https://colab.research.google.com/assets/colab-badge.svg\" alt=\"Open In Colab\"/></a>"
      ]
    },
    {
      "cell_type": "code",
      "metadata": {
        "colab": {
          "base_uri": "https://localhost:8080/"
        },
        "id": "DGdGYeDBg-Ih",
        "outputId": "7918bde7-9c02-484b-97a2-440d57a7a798"
      },
      "source": [
        "n = int(input(\"Enter any number:\"))\r\n",
        "for i in range(n):\r\n",
        "  print(' '*i+\"* \"*(n-i))"
      ],
      "execution_count": 4,
      "outputs": [
        {
          "output_type": "stream",
          "text": [
            "Enter any number:4\n",
            "* * * * \n",
            " * * * \n",
            "  * * \n",
            "   * \n"
          ],
          "name": "stdout"
        }
      ]
    },
    {
      "cell_type": "code",
      "metadata": {
        "id": "vjmeiasIhX4l"
      },
      "source": [
        ""
      ],
      "execution_count": null,
      "outputs": []
    }
  ]
}