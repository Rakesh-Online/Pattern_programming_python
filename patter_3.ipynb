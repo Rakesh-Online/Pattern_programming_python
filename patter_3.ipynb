{
  "nbformat": 4,
  "nbformat_minor": 0,
  "metadata": {
    "colab": {
      "name": "patter_3.ipynb",
      "provenance": [],
      "authorship_tag": "ABX9TyPVL+h5PvymrDZzEJ80Iki8",
      "include_colab_link": true
    },
    "kernelspec": {
      "name": "python3",
      "display_name": "Python 3"
    }
  },
  "cells": [
    {
      "cell_type": "markdown",
      "metadata": {
        "id": "view-in-github",
        "colab_type": "text"
      },
      "source": [
        "<a href=\"https://colab.research.google.com/github/Rakesh-Online/Pattern_programming_python/blob/master/patter_3.ipynb\" target=\"_parent\"><img src=\"https://colab.research.google.com/assets/colab-badge.svg\" alt=\"Open In Colab\"/></a>"
      ]
    },
    {
      "cell_type": "code",
      "metadata": {
        "colab": {
          "base_uri": "https://localhost:8080/"
        },
        "id": "DGdGYeDBg-Ih",
        "outputId": "7918bde7-9c02-484b-97a2-440d57a7a798"
      },
      "source": [
        "n = int(input(\"Enter any number:\"))\r\n",
        "for i in range(n):\r\n",
        "  print(' '*i+\"* \"*(n-i))"
      ],
      "execution_count": null,
      "outputs": [
        {
          "output_type": "stream",
          "text": [
            "Enter any number:4\n",
            "* * * * \n",
            " * * * \n",
            "  * * \n",
            "   * \n"
          ],
          "name": "stdout"
        }
      ]
    },
    {
      "cell_type": "code",
      "metadata": {
        "id": "vjmeiasIhX4l",
        "outputId": "fa94e6b3-f037-41e2-e55c-4b0777a8b348",
        "colab": {
          "base_uri": "https://localhost:8080/"
        }
      },
      "source": [
        "n = int(input(\"Enter any number:\"))\r\n",
        "for i in range(n):\r\n",
        "  print(' '*i+(str(i+1)+' ')*(n-i))"
      ],
      "execution_count": 4,
      "outputs": [
        {
          "output_type": "stream",
          "text": [
            "Enter any number:4\n",
            "1 1 1 1 \n",
            " 2 2 2 \n",
            "  3 3 \n",
            "   4 \n"
          ],
          "name": "stdout"
        }
      ]
    },
    {
      "cell_type": "code",
      "metadata": {
        "id": "3CdMRDZTNMWB",
        "outputId": "574721a7-5450-4aed-d56a-eb1e390bf143",
        "colab": {
          "base_uri": "https://localhost:8080/"
        }
      },
      "source": [
        "n = int(input(\"Enter any number:\"))\r\n",
        "for i in range(n):\r\n",
        "  print(' '*i+(chr(65+i)+' ')*(n-i))"
      ],
      "execution_count": 8,
      "outputs": [
        {
          "output_type": "stream",
          "text": [
            "Enter any number:4\n",
            "A A A A \n",
            " B B B \n",
            "  C C \n",
            "   D \n"
          ],
          "name": "stdout"
        }
      ]
    },
    {
      "cell_type": "code",
      "metadata": {
        "id": "0T1ejGp5N0Nz",
        "outputId": "4cb1a4db-a63a-4ec6-fc0a-1d564a551a21",
        "colab": {
          "base_uri": "https://localhost:8080/"
        }
      },
      "source": [
        "n = int(input(\"Enter any number:\"))\r\n",
        "for i in range(n):\r\n",
        "  print(' '*i, end= ' ')\r\n",
        "  for j in range(n-i):\r\n",
        "    print(j+1, end= \" \")\r\n",
        "  print()\r\n",
        " "
      ],
      "execution_count": 9,
      "outputs": [
        {
          "output_type": "stream",
          "text": [
            "Enter any number:4\n",
            " 1 2 3 4 \n",
            "  1 2 3 \n",
            "   1 2 \n",
            "    1 \n"
          ],
          "name": "stdout"
        }
      ]
    },
    {
      "cell_type": "code",
      "metadata": {
        "id": "YcXCJyyVOsVF",
        "outputId": "26067a72-b24b-45ca-ce5a-7edf73fc9d87",
        "colab": {
          "base_uri": "https://localhost:8080/"
        }
      },
      "source": [
        "n = int(input(\"Enter any number:\"))\r\n",
        "for i in range(n):\r\n",
        "  print(' '*i, end= ' ')\r\n",
        "  for j in range(n-i):\r\n",
        "    print(chr(65+j), end= \" \")\r\n",
        "  print()"
      ],
      "execution_count": 10,
      "outputs": [
        {
          "output_type": "stream",
          "text": [
            "Enter any number:5\n",
            " A B C D E \n",
            "  A B C D \n",
            "   A B C \n",
            "    A B \n",
            "     A \n"
          ],
          "name": "stdout"
        }
      ]
    },
    {
      "cell_type": "code",
      "metadata": {
        "id": "dhiyd0a-O7-m",
        "outputId": "ae5c2e9a-40aa-4bea-bf4c-47f912c57044",
        "colab": {
          "base_uri": "https://localhost:8080/"
        }
      },
      "source": [
        "n = int(input(\"Enter any number:\"))\r\n",
        "for i in range(n):\r\n",
        "  print(' '*i, end= ' ')\r\n",
        "  for j in range(n-i):\r\n",
        "    print(n-j, end= \" \")\r\n",
        "  print()"
      ],
      "execution_count": 11,
      "outputs": [
        {
          "output_type": "stream",
          "text": [
            "Enter any number:4\n",
            " 4 3 2 1 \n",
            "  4 3 2 \n",
            "   4 3 \n",
            "    4 \n"
          ],
          "name": "stdout"
        }
      ]
    },
    {
      "cell_type": "code",
      "metadata": {
        "id": "7lPy5f5nPXy2",
        "outputId": "f6f77486-2891-45ab-d141-0f94ce4cbc77",
        "colab": {
          "base_uri": "https://localhost:8080/"
        }
      },
      "source": [
        "n = int(input(\"Enter any number:\"))\r\n",
        "for i in range(n):\r\n",
        "  print(' '*i, end= ' ')\r\n",
        "  for j in range(n-i):\r\n",
        "    print(chr(65+n-j), end= \" \")\r\n",
        "  print()"
      ],
      "execution_count": 12,
      "outputs": [
        {
          "output_type": "stream",
          "text": [
            "Enter any number:5\n",
            " F E D C B \n",
            "  F E D C \n",
            "   F E D \n",
            "    F E \n",
            "     F \n"
          ],
          "name": "stdout"
        }
      ]
    },
    {
      "cell_type": "code",
      "metadata": {
        "id": "EQ7nkEVNPhM-"
      },
      "source": [
        ""
      ],
      "execution_count": null,
      "outputs": []
    }
  ]
}