{
  "nbformat": 4,
  "nbformat_minor": 0,
  "metadata": {
    "colab": {
      "name": "pattern_4.ipynb",
      "provenance": [],
      "authorship_tag": "ABX9TyOcV9kh/1PxxN7h2BJnHQnO",
      "include_colab_link": true
    },
    "kernelspec": {
      "name": "python3",
      "display_name": "Python 3"
    }
  },
  "cells": [
    {
      "cell_type": "markdown",
      "metadata": {
        "id": "view-in-github",
        "colab_type": "text"
      },
      "source": [
        "<a href=\"https://colab.research.google.com/github/Rakesh-Online/Pattern_programming_python/blob/master/pattern_4.ipynb\" target=\"_parent\"><img src=\"https://colab.research.google.com/assets/colab-badge.svg\" alt=\"Open In Colab\"/></a>"
      ]
    },
    {
      "cell_type": "code",
      "metadata": {
        "colab": {
          "base_uri": "https://localhost:8080/"
        },
        "id": "EAMwwKGLR-O1",
        "outputId": "607d630f-a2fa-47d4-8516-c4108bad0009"
      },
      "source": [
        "n = int(input(\"Enter any number:\"))\r\n",
        "for i in range(n):\r\n",
        "  print(\" \"*(n-i-1)+ \"* \"*(i+1))\r\n",
        "for i in range(n-1):\r\n",
        "  print(\" \"*(i+1)+\"* \"*(n-i-1))"
      ],
      "execution_count": 13,
      "outputs": [
        {
          "output_type": "stream",
          "text": [
            "Enter any number:4\n",
            "   * \n",
            "  * * \n",
            " * * * \n",
            "* * * * \n",
            " * * * \n",
            "  * * \n",
            "   * \n"
          ],
          "name": "stdout"
        }
      ]
    },
    {
      "cell_type": "code",
      "metadata": {
        "colab": {
          "base_uri": "https://localhost:8080/"
        },
        "id": "JxVUi9NRSZdv",
        "outputId": "091b3f6e-7516-4a61-99ec-5805ce0dbc1b"
      },
      "source": [
        "n = int(input(\"Enter any number:\"))\r\n",
        "for i in range(n):\r\n",
        "  print(\" \"*(n-i-1)+ (str(i+1)+\" \")*(i+1))\r\n",
        "for i in range(n-1):\r\n",
        "  print(\" \"*(i+1)+(str(n-i-1)+ \" \")*(n-i-1))"
      ],
      "execution_count": 18,
      "outputs": [
        {
          "output_type": "stream",
          "text": [
            "Enter any number:4\n",
            "   1 \n",
            "  2 2 \n",
            " 3 3 3 \n",
            "4 4 4 4 \n",
            " 3 3 3 \n",
            "  2 2 \n",
            "   1 \n"
          ],
          "name": "stdout"
        }
      ]
    },
    {
      "cell_type": "code",
      "metadata": {
        "colab": {
          "base_uri": "https://localhost:8080/"
        },
        "id": "xOPJhpgsUFWi",
        "outputId": "b47c522f-d3c4-4155-9348-78af3c69f41a"
      },
      "source": [
        "n = int(input(\"Enter any number:\"))\r\n",
        "for i in range(n):\r\n",
        "  print(\" \"*(n-i-1)+ (chr(65+i)+\" \")*(i+1))\r\n",
        "for i in range(n-1):\r\n",
        "  print(\" \"*(i+1)+(chr(64+n-i-1)+ \" \")*(n-i-1))"
      ],
      "execution_count": 25,
      "outputs": [
        {
          "output_type": "stream",
          "text": [
            "Enter any number:10\n",
            "         A \n",
            "        B B \n",
            "       C C C \n",
            "      D D D D \n",
            "     E E E E E \n",
            "    F F F F F F \n",
            "   G G G G G G G \n",
            "  H H H H H H H H \n",
            " I I I I I I I I I \n",
            "J J J J J J J J J J \n",
            " I I I I I I I I I \n",
            "  H H H H H H H H \n",
            "   G G G G G G G \n",
            "    F F F F F F \n",
            "     E E E E E \n",
            "      D D D D \n",
            "       C C C \n",
            "        B B \n",
            "         A \n"
          ],
          "name": "stdout"
        }
      ]
    },
    {
      "cell_type": "code",
      "metadata": {
        "colab": {
          "base_uri": "https://localhost:8080/"
        },
        "id": "pA1OrYCHVdPv",
        "outputId": "6b0fbd7c-feaa-4e2b-8aaa-6619e261c861"
      },
      "source": [
        "n = int(input(\"Enter any number:\"))\r\n",
        "for i in range(n):\r\n",
        "  print(\" \"*(n-i-1), end= \" \")\r\n",
        "  for j in range(i+1):\r\n",
        "    print(j+1, end = \" \")\r\n",
        "  print()\r\n",
        "for i in range(n):\r\n",
        "  print(\" \"*(i+1), end=\" \")\r\n",
        "  for j in range(n-i-1):\r\n",
        "    print(j+1, end = \" \")\r\n",
        "  print()"
      ],
      "execution_count": 31,
      "outputs": [
        {
          "output_type": "stream",
          "text": [
            "Enter any number:4\n",
            "    1 \n",
            "   1 2 \n",
            "  1 2 3 \n",
            " 1 2 3 4 \n",
            "  1 2 3 \n",
            "   1 2 \n",
            "    1 \n",
            "     \n"
          ],
          "name": "stdout"
        }
      ]
    },
    {
      "cell_type": "code",
      "metadata": {
        "colab": {
          "base_uri": "https://localhost:8080/"
        },
        "id": "DEvn6MSjXHLH",
        "outputId": "3c5bee28-0315-4380-ddf0-2f5032098279"
      },
      "source": [
        "n = int(input(\"Enter any number:\"))\r\n",
        "for i in range(n):\r\n",
        "  print(\" \"*(n-i-1), end= \" \")\r\n",
        "  for j in range(i+1):\r\n",
        "    print(chr(65+j), end = \" \")\r\n",
        "  print()\r\n",
        "for i in range(n):\r\n",
        "  print(\" \"*(i+1), end=\" \")\r\n",
        "  for j in range(n-i-1):\r\n",
        "    print(chr(65+j), end = \" \")\r\n",
        "  print()"
      ],
      "execution_count": 36,
      "outputs": [
        {
          "output_type": "stream",
          "text": [
            "Enter any number:4\n",
            "    A \n",
            "   A B \n",
            "  A B C \n",
            " A B C D \n",
            "  A B C \n",
            "   A B \n",
            "    A \n",
            "     \n"
          ],
          "name": "stdout"
        }
      ]
    },
    {
      "cell_type": "code",
      "metadata": {
        "colab": {
          "base_uri": "https://localhost:8080/"
        },
        "id": "JlaGvUdfY46L",
        "outputId": "5ed2969b-6648-4a47-bdd8-9c0140697f97"
      },
      "source": [
        "n = int(input(\"Enter any number:\"))\r\n",
        "for i in range(n):\r\n",
        "  print(\" \"*(n-i-1), end= \" \")\r\n",
        "  for j in range(i+1):\r\n",
        "    print(n-j, end = \" \")\r\n",
        "  print()\r\n",
        "for i in range(n):\r\n",
        "  print(\" \"*(i+1), end=\" \")\r\n",
        "  for j in range(n-i-1):\r\n",
        "    print(n-j, end = \" \")\r\n",
        "  print()"
      ],
      "execution_count": 37,
      "outputs": [
        {
          "output_type": "stream",
          "text": [
            "Enter any number:4\n",
            "    4 \n",
            "   4 3 \n",
            "  4 3 2 \n",
            " 4 3 2 1 \n",
            "  4 3 2 \n",
            "   4 3 \n",
            "    4 \n",
            "     \n"
          ],
          "name": "stdout"
        }
      ]
    },
    {
      "cell_type": "code",
      "metadata": {
        "colab": {
          "base_uri": "https://localhost:8080/"
        },
        "id": "2TNVF6xfZhBc",
        "outputId": "7248fb8d-3475-48e4-831b-15fde3cde221"
      },
      "source": [
        "n = int(input(\"Enter any number:\"))\r\n",
        "for i in range(n):\r\n",
        "  print(\" \"*(n-i-1), end= \" \")\r\n",
        "  for j in range(i+1):\r\n",
        "    print(chr(64+n-j), end = \" \")\r\n",
        "  print()\r\n",
        "for i in range(n):\r\n",
        "  print(\" \"*(i+1), end=\" \")\r\n",
        "  for j in range(n-i-1):\r\n",
        "    print(chr(64+n-j), end = \" \")\r\n",
        "  print()"
      ],
      "execution_count": 39,
      "outputs": [
        {
          "output_type": "stream",
          "text": [
            "Enter any number:4\n",
            "    D \n",
            "   D C \n",
            "  D C B \n",
            " D C B A \n",
            "  D C B \n",
            "   D C \n",
            "    D \n",
            "     \n"
          ],
          "name": "stdout"
        }
      ]
    },
    {
      "cell_type": "code",
      "metadata": {
        "id": "015DSCxKZssn"
      },
      "source": [
        ""
      ],
      "execution_count": null,
      "outputs": []
    }
  ]
}