{
  "nbformat": 4,
  "nbformat_minor": 0,
  "metadata": {
    "colab": {
      "name": "pattern_4.ipynb",
      "provenance": [],
      "authorship_tag": "ABX9TyO9DgBOT2G+sMMdyqSBUkqh",
      "include_colab_link": true
    },
    "kernelspec": {
      "name": "python3",
      "display_name": "Python 3"
    }
  },
  "cells": [
    {
      "cell_type": "markdown",
      "metadata": {
        "id": "view-in-github",
        "colab_type": "text"
      },
      "source": [
        "<a href=\"https://colab.research.google.com/github/Rakesh-Online/Pattern_programming_python/blob/master/pattern_4.ipynb\" target=\"_parent\"><img src=\"https://colab.research.google.com/assets/colab-badge.svg\" alt=\"Open In Colab\"/></a>"
      ]
    },
    {
      "cell_type": "code",
      "metadata": {
        "colab": {
          "base_uri": "https://localhost:8080/"
        },
        "id": "EAMwwKGLR-O1",
        "outputId": "607d630f-a2fa-47d4-8516-c4108bad0009"
      },
      "source": [
        "n = int(input(\"Enter any number:\"))\n",
        "for i in range(n):\n",
        "  print(\" \"*(n-i-1)+ \"* \"*(i+1))\n",
        "for i in range(n-1):\n",
        "  print(\" \"*(i+1)+\"* \"*(n-i-1))"
      ],
      "execution_count": null,
      "outputs": [
        {
          "output_type": "stream",
          "text": [
            "Enter any number:4\n",
            "   * \n",
            "  * * \n",
            " * * * \n",
            "* * * * \n",
            " * * * \n",
            "  * * \n",
            "   * \n"
          ],
          "name": "stdout"
        }
      ]
    },
    {
      "cell_type": "code",
      "metadata": {
        "colab": {
          "base_uri": "https://localhost:8080/"
        },
        "id": "JxVUi9NRSZdv",
        "outputId": "091b3f6e-7516-4a61-99ec-5805ce0dbc1b"
      },
      "source": [
        "n = int(input(\"Enter any number:\"))\n",
        "for i in range(n):\n",
        "  print(\" \"*(n-i-1)+ (str(i+1)+\" \")*(i+1))\n",
        "for i in range(n-1):\n",
        "  print(\" \"*(i+1)+(str(n-i-1)+ \" \")*(n-i-1))"
      ],
      "execution_count": null,
      "outputs": [
        {
          "output_type": "stream",
          "text": [
            "Enter any number:4\n",
            "   1 \n",
            "  2 2 \n",
            " 3 3 3 \n",
            "4 4 4 4 \n",
            " 3 3 3 \n",
            "  2 2 \n",
            "   1 \n"
          ],
          "name": "stdout"
        }
      ]
    },
    {
      "cell_type": "code",
      "metadata": {
        "colab": {
          "base_uri": "https://localhost:8080/"
        },
        "id": "xOPJhpgsUFWi",
        "outputId": "ddb142c5-e766-4cd1-c208-8b0963af02f6"
      },
      "source": [
        "n = int(input(\"Enter any number:\"))\n",
        "for i in range(n):\n",
        "  print(\" \"*(n-i-1)+ (chr(65+i)+\" \")*(i+1))\n",
        "for i in range(n-1):\n",
        "  print(\" \"*(i+1)+(chr(64+n-i-1)+ \" \")*(n-i-1))"
      ],
      "execution_count": null,
      "outputs": [
        {
          "output_type": "stream",
          "text": [
            "Enter any number:5\n",
            "    A \n",
            "   B B \n",
            "  C C C \n",
            " D D D D \n",
            "E E E E E \n",
            " D D D D \n",
            "  C C C \n",
            "   B B \n",
            "    A \n"
          ],
          "name": "stdout"
        }
      ]
    },
    {
      "cell_type": "code",
      "metadata": {
        "colab": {
          "base_uri": "https://localhost:8080/"
        },
        "id": "pA1OrYCHVdPv",
        "outputId": "6b0fbd7c-feaa-4e2b-8aaa-6619e261c861"
      },
      "source": [
        "n = int(input(\"Enter any number:\"))\n",
        "for i in range(n):\n",
        "  print(\" \"*(n-i-1), end= \" \")\n",
        "  for j in range(i+1):\n",
        "    print(j+1, end = \" \")\n",
        "  print()\n",
        "for i in range(n):\n",
        "  print(\" \"*(i+1), end=\" \")\n",
        "  for j in range(n-i-1):\n",
        "    print(j+1, end = \" \")\n",
        "  print()"
      ],
      "execution_count": null,
      "outputs": [
        {
          "output_type": "stream",
          "text": [
            "Enter any number:4\n",
            "    1 \n",
            "   1 2 \n",
            "  1 2 3 \n",
            " 1 2 3 4 \n",
            "  1 2 3 \n",
            "   1 2 \n",
            "    1 \n",
            "     \n"
          ],
          "name": "stdout"
        }
      ]
    },
    {
      "cell_type": "code",
      "metadata": {
        "colab": {
          "base_uri": "https://localhost:8080/"
        },
        "id": "DEvn6MSjXHLH",
        "outputId": "3c5bee28-0315-4380-ddf0-2f5032098279"
      },
      "source": [
        "n = int(input(\"Enter any number:\"))\n",
        "for i in range(n):\n",
        "  print(\" \"*(n-i-1), end= \" \")\n",
        "  for j in range(i+1):\n",
        "    print(chr(65+j), end = \" \")\n",
        "  print()\n",
        "for i in range(n):\n",
        "  print(\" \"*(i+1), end=\" \")\n",
        "  for j in range(n-i-1):\n",
        "    print(chr(65+j), end = \" \")\n",
        "  print()"
      ],
      "execution_count": null,
      "outputs": [
        {
          "output_type": "stream",
          "text": [
            "Enter any number:4\n",
            "    A \n",
            "   A B \n",
            "  A B C \n",
            " A B C D \n",
            "  A B C \n",
            "   A B \n",
            "    A \n",
            "     \n"
          ],
          "name": "stdout"
        }
      ]
    },
    {
      "cell_type": "code",
      "metadata": {
        "colab": {
          "base_uri": "https://localhost:8080/"
        },
        "id": "JlaGvUdfY46L",
        "outputId": "5ed2969b-6648-4a47-bdd8-9c0140697f97"
      },
      "source": [
        "n = int(input(\"Enter any number:\"))\n",
        "for i in range(n):\n",
        "  print(\" \"*(n-i-1), end= \" \")\n",
        "  for j in range(i+1):\n",
        "    print(n-j, end = \" \")\n",
        "  print()\n",
        "for i in range(n):\n",
        "  print(\" \"*(i+1), end=\" \")\n",
        "  for j in range(n-i-1):\n",
        "    print(n-j, end = \" \")\n",
        "  print()"
      ],
      "execution_count": null,
      "outputs": [
        {
          "output_type": "stream",
          "text": [
            "Enter any number:4\n",
            "    4 \n",
            "   4 3 \n",
            "  4 3 2 \n",
            " 4 3 2 1 \n",
            "  4 3 2 \n",
            "   4 3 \n",
            "    4 \n",
            "     \n"
          ],
          "name": "stdout"
        }
      ]
    },
    {
      "cell_type": "code",
      "metadata": {
        "colab": {
          "base_uri": "https://localhost:8080/"
        },
        "id": "2TNVF6xfZhBc",
        "outputId": "7248fb8d-3475-48e4-831b-15fde3cde221"
      },
      "source": [
        "n = int(input(\"Enter any number:\"))\n",
        "for i in range(n):\n",
        "  print(\" \"*(n-i-1), end= \" \")\n",
        "  for j in range(i+1):\n",
        "    print(chr(64+n-j), end = \" \")\n",
        "  print()\n",
        "for i in range(n):\n",
        "  print(\" \"*(i+1), end=\" \")\n",
        "  for j in range(n-i-1):\n",
        "    print(chr(64+n-j), end = \" \")\n",
        "  print()"
      ],
      "execution_count": null,
      "outputs": [
        {
          "output_type": "stream",
          "text": [
            "Enter any number:4\n",
            "    D \n",
            "   D C \n",
            "  D C B \n",
            " D C B A \n",
            "  D C B \n",
            "   D C \n",
            "    D \n",
            "     \n"
          ],
          "name": "stdout"
        }
      ]
    },
    {
      "cell_type": "code",
      "metadata": {
        "id": "015DSCxKZssn"
      },
      "source": [
        "#half diamond"
      ],
      "execution_count": null,
      "outputs": []
    },
    {
      "cell_type": "code",
      "metadata": {
        "id": "VhgQpAj8aT9t",
        "colab": {
          "base_uri": "https://localhost:8080/"
        },
        "outputId": "82966a5d-4433-40a4-f863-3e53617f999f"
      },
      "source": [
        "n = int(input(\"enter any number: \"))\n",
        "for i in range(n):\n",
        "  print('* '*(i+1))\n",
        "for i in range(n):\n",
        "  print('* '*(n-i-1))"
      ],
      "execution_count": null,
      "outputs": [
        {
          "output_type": "stream",
          "text": [
            "enter any number: 4\n",
            "* \n",
            "* * \n",
            "* * * \n",
            "* * * * \n",
            "* * * \n",
            "* * \n",
            "* \n",
            "\n"
          ],
          "name": "stdout"
        }
      ]
    },
    {
      "cell_type": "code",
      "metadata": {
        "id": "bMBv0pKNdOcY",
        "colab": {
          "base_uri": "https://localhost:8080/"
        },
        "outputId": "e9f691f4-183a-4407-970e-ca811bc7ad98"
      },
      "source": [
        "n = int(input(\"enter any number: \"))\n",
        "for i in range(n):\n",
        "  print((str(i+1)+' ')*(i+1))\n",
        "for i in range(n):\n",
        "  print((str(n-i-1)+ ' ')*(n-i-1))"
      ],
      "execution_count": null,
      "outputs": [
        {
          "output_type": "stream",
          "text": [
            "enter any number: 5\n",
            "1 \n",
            "2 2 \n",
            "3 3 3 \n",
            "4 4 4 4 \n",
            "5 5 5 5 5 \n",
            "4 4 4 4 \n",
            "3 3 3 \n",
            "2 2 \n",
            "1 \n",
            "\n"
          ],
          "name": "stdout"
        }
      ]
    },
    {
      "cell_type": "code",
      "metadata": {
        "id": "8T5AXQ_WfMV1",
        "colab": {
          "base_uri": "https://localhost:8080/"
        },
        "outputId": "8acbb249-2bd5-4b59-9b27-ef2212144def"
      },
      "source": [
        "n = int(input(\"enter any number: \"))\n",
        "for i in range(n):\n",
        "  print((chr(65+i)+' ')*(i+1))\n",
        "for i in range(n):\n",
        "  print((chr(64+n-i-1)+ ' ')*(n-i-1))"
      ],
      "execution_count": null,
      "outputs": [
        {
          "output_type": "stream",
          "text": [
            "enter any number: 5\n",
            "A \n",
            "B B \n",
            "C C C \n",
            "D D D D \n",
            "E E E E E \n",
            "D D D D \n",
            "C C C \n",
            "B B \n",
            "A \n",
            "\n"
          ],
          "name": "stdout"
        }
      ]
    },
    {
      "cell_type": "code",
      "metadata": {
        "id": "1K0BXTG4gZr3",
        "colab": {
          "base_uri": "https://localhost:8080/"
        },
        "outputId": "308e1ace-eeb5-421a-d046-f8e702948d0d"
      },
      "source": [
        "n = int(input(\"enter any number: \"))\n",
        "for i in range(n):\n",
        "  for j in range(i+1):\n",
        "    print(j+1, end=' ')\n",
        "  print()\n",
        "for i in range(n):\n",
        "  for j in range(n-i-1):\n",
        "    print(j+1, end= ' ')\n",
        "  print()"
      ],
      "execution_count": null,
      "outputs": [
        {
          "output_type": "stream",
          "text": [
            "enter any number: 4\n",
            "1 \n",
            "1 2 \n",
            "1 2 3 \n",
            "1 2 3 4 \n",
            "1 2 3 \n",
            "1 2 \n",
            "1 \n",
            "\n"
          ],
          "name": "stdout"
        }
      ]
    },
    {
      "cell_type": "code",
      "metadata": {
        "id": "IRhb3IMHhPrg",
        "colab": {
          "base_uri": "https://localhost:8080/"
        },
        "outputId": "99e15117-a159-457e-f7a3-a54d1e76a722"
      },
      "source": [
        "n = int(input(\"enter any number: \"))\n",
        "for i in range(n):\n",
        "  for j in range(i+1):\n",
        "    print(chr(65+j), end=' ')\n",
        "  print()\n",
        "for i in range(n):\n",
        "  for j in range(n-i-1):\n",
        "    print(chr(65+j), end= ' ')\n",
        "  print()"
      ],
      "execution_count": null,
      "outputs": [
        {
          "output_type": "stream",
          "text": [
            "enter any number: 4\n",
            "A \n",
            "A B \n",
            "A B C \n",
            "A B C D \n",
            "A B C \n",
            "A B \n",
            "A \n",
            "\n"
          ],
          "name": "stdout"
        }
      ]
    },
    {
      "cell_type": "code",
      "metadata": {
        "id": "6pSn4DZqXrvg",
        "outputId": "48054096-9142-4369-fa3e-a7df26b4018f",
        "colab": {
          "base_uri": "https://localhost:8080/"
        }
      },
      "source": [
        "n = int(input(\"enter any number: \"))\n",
        "for i in range(n):\n",
        "  for j in range(i+1):\n",
        "    print(n-j, end= ' ')\n",
        "  print()\n",
        "for i in range(n):\n",
        "  for j in range(n-i-1):\n",
        "    print(n-j, end= \" \")\n",
        "  print()"
      ],
      "execution_count": 5,
      "outputs": [
        {
          "output_type": "stream",
          "text": [
            "enter any number: 4\n",
            "4 \n",
            "4 3 \n",
            "4 3 2 \n",
            "4 3 2 1 \n",
            "4 3 2 \n",
            "4 3 \n",
            "4 \n",
            "\n"
          ],
          "name": "stdout"
        }
      ]
    },
    {
      "cell_type": "code",
      "metadata": {
        "id": "UJF0BEQVYhUx",
        "outputId": "8dc27186-5864-452c-d922-72e2a3dd64c1",
        "colab": {
          "base_uri": "https://localhost:8080/"
        }
      },
      "source": [
        "n = int(input(\"enter any number: \"))\n",
        "for i in range(n):\n",
        "  for j in range(i+1):\n",
        "    print(chr(64+n-j), end= ' ')\n",
        "  print()\n",
        "for i in range(n):\n",
        "  for j in range(n-i-1):\n",
        "    print(chr(64+n-j), end= \" \")\n",
        "  print()"
      ],
      "execution_count": 6,
      "outputs": [
        {
          "output_type": "stream",
          "text": [
            "enter any number: 4\n",
            "D \n",
            "D C \n",
            "D C B \n",
            "D C B A \n",
            "D C B \n",
            "D C \n",
            "D \n",
            "\n"
          ],
          "name": "stdout"
        }
      ]
    },
    {
      "cell_type": "code",
      "metadata": {
        "id": "M4BNvhyRZLtZ",
        "outputId": "db88cf82-abcb-488a-cd8e-bb18646b12b8",
        "colab": {
          "base_uri": "https://localhost:8080/"
        }
      },
      "source": [
        "n = int(input(\"enter any number: \"))\n",
        "for i in range(n):\n",
        "  print(\"  \"*(n-i-1)+' *'*(i+1))\n",
        "for i in range(n):\n",
        "  print('  '*(i+1)+\" *\"*(n-i-1))"
      ],
      "execution_count": 14,
      "outputs": [
        {
          "output_type": "stream",
          "text": [
            "enter any number: 4\n",
            "       *\n",
            "     * *\n",
            "   * * *\n",
            " * * * *\n",
            "   * * *\n",
            "     * *\n",
            "       *\n",
            "        \n"
          ],
          "name": "stdout"
        }
      ]
    },
    {
      "cell_type": "code",
      "metadata": {
        "id": "PUg0qhuFaa67",
        "outputId": "1262fe44-18b2-4cee-a4c3-c79275abd8e2",
        "colab": {
          "base_uri": "https://localhost:8080/"
        }
      },
      "source": [
        "\n",
        "n = int(input(\"enter any number: \"))\n",
        "for i in range(n):\n",
        "  print(\"  \"*(n-i-1)+(str(i+1)+ ' ')*(i+1))\n",
        "for i in range(n):\n",
        "  print('  '*(i+1)+(str(n-i-1)+ ' ')*(n-i-1))\n"
      ],
      "execution_count": 18,
      "outputs": [
        {
          "output_type": "stream",
          "text": [
            "enter any number: 4\n",
            "      1 \n",
            "    2 2 \n",
            "  3 3 3 \n",
            "4 4 4 4 \n",
            "  3 3 3 \n",
            "    2 2 \n",
            "      1 \n",
            "        \n"
          ],
          "name": "stdout"
        }
      ]
    },
    {
      "cell_type": "code",
      "metadata": {
        "id": "6jo_PnmYbdCG",
        "outputId": "f5ac85c9-632d-4209-fe97-dd8e95f656e7",
        "colab": {
          "base_uri": "https://localhost:8080/"
        }
      },
      "source": [
        "n = int(input(\"enter any number: \"))\n",
        "for i in range(n):\n",
        "  print(\"  \"*(n-i-1)+(chr(65+i)+ ' ')*(i+1))\n",
        "for i in range(n):\n",
        "  print('  '*(i+1)+(chr(63+n-i)+ ' ')*(n-i-1))\n"
      ],
      "execution_count": 21,
      "outputs": [
        {
          "output_type": "stream",
          "text": [
            "enter any number: 4\n",
            "      A \n",
            "    B B \n",
            "  C C C \n",
            "D D D D \n",
            "  C C C \n",
            "    B B \n",
            "      A \n",
            "        \n"
          ],
          "name": "stdout"
        }
      ]
    },
    {
      "cell_type": "code",
      "metadata": {
        "id": "pmnQCQ4bchPl",
        "outputId": "7973ed68-f9d3-4574-835a-920d154efdf9",
        "colab": {
          "base_uri": "https://localhost:8080/"
        }
      },
      "source": [
        "n = int(input(\"Enter any number : \"))\n",
        "for i in range(n):\n",
        "  print(\"  \"*(n-i-1), end = ' ')\n",
        "  for j in range(i+1):\n",
        "    print(str(j+1)+' ', end= '')\n",
        "  print()\n",
        "for i in range(n-1):\n",
        "  print(\"  \"*(i+1), end = ' ')\n",
        "  for j in range(n-i-1):\n",
        "    print(str(j+1)+ ' ', end = '')\n",
        "  print()"
      ],
      "execution_count": 41,
      "outputs": [
        {
          "output_type": "stream",
          "text": [
            "Enter any number : 4\n",
            "       1 \n",
            "     1 2 \n",
            "   1 2 3 \n",
            " 1 2 3 4 \n",
            "   1 2 3 \n",
            "     1 2 \n",
            "       1 \n"
          ],
          "name": "stdout"
        }
      ]
    },
    {
      "cell_type": "code",
      "metadata": {
        "id": "E9ENxnfbdu06",
        "outputId": "f4816ffd-2df2-42d4-a8bd-688d15b85ab8",
        "colab": {
          "base_uri": "https://localhost:8080/"
        }
      },
      "source": [
        " n = int(input(\"Enter any number : \"))\n",
        "for i in range(n):\n",
        "  print(\"  \"*(n-i-1), end = ' ')\n",
        "  for j in range(i+1):\n",
        "    print(chr(65+j)+' ', end= '')\n",
        "  print()\n",
        "for i in range(n-1):\n",
        "  print(\"  \"*(i+1), end = ' ')\n",
        "  for j in range(n-i-1):\n",
        "    print(chr(65+j)+ ' ', end = '')\n",
        "  print()"
      ],
      "execution_count": 42,
      "outputs": [
        {
          "output_type": "stream",
          "text": [
            "Enter any number : 4\n",
            "       A \n",
            "     A B \n",
            "   A B C \n",
            " A B C D \n",
            "   A B C \n",
            "     A B \n",
            "       A \n"
          ],
          "name": "stdout"
        }
      ]
    },
    {
      "cell_type": "code",
      "metadata": {
        "id": "ubIgSdj8gQpE",
        "outputId": "6207a7d0-2588-4ec7-f99a-b0232d567a9b",
        "colab": {
          "base_uri": "https://localhost:8080/"
        }
      },
      "source": [
        " n = int(input(\"Enter any number : \"))\n",
        "for i in range(n):\n",
        "  print(\"  \"*(n-i-1), end = ' ')\n",
        "  for j in range(i+1):\n",
        "    print(str(n-j)+' ', end= '')\n",
        "  print()\n",
        "for i in range(n-1):\n",
        "  print(\"  \"*(i+1), end = ' ')\n",
        "  for j in range(n-i-1):\n",
        "    print(str(n-j)+ ' ', end = '')\n",
        "  print()"
      ],
      "execution_count": 44,
      "outputs": [
        {
          "output_type": "stream",
          "text": [
            "Enter any number : 4\n",
            "       4 \n",
            "     4 3 \n",
            "   4 3 2 \n",
            " 4 3 2 1 \n",
            "   4 3 2 \n",
            "     4 3 \n",
            "       4 \n"
          ],
          "name": "stdout"
        }
      ]
    },
    {
      "cell_type": "code",
      "metadata": {
        "id": "u2su7YBEgb5f",
        "outputId": "67f2b8dd-d34a-4beb-e4d1-5df205986a25",
        "colab": {
          "base_uri": "https://localhost:8080/"
        }
      },
      "source": [
        " n = int(input(\"Enter any number : \"))\n",
        "for i in range(n):\n",
        "  print(\"  \"*(n-i-1), end = ' ')\n",
        "  for j in range(i+1):\n",
        "    print(chr(64+n-j)+' ', end= '')\n",
        "  print()\n",
        "for i in range(n-1):\n",
        "  print(\"  \"*(i+1), end = ' ')\n",
        "  for j in range(n-i-1):\n",
        "    print(chr(64+n-j)+ ' ', end = '')\n",
        "  print()"
      ],
      "execution_count": 45,
      "outputs": [
        {
          "output_type": "stream",
          "text": [
            "Enter any number : 4\n",
            "       D \n",
            "     D C \n",
            "   D C B \n",
            " D C B A \n",
            "   D C B \n",
            "     D C \n",
            "       D \n"
          ],
          "name": "stdout"
        }
      ]
    },
    {
      "cell_type": "code",
      "metadata": {
        "id": "2rXfoCingpzD"
      },
      "source": [
        ""
      ],
      "execution_count": null,
      "outputs": []
    }
  ]
}