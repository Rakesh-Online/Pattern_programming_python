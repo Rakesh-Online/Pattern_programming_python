{
  "nbformat": 4,
  "nbformat_minor": 0,
  "metadata": {
    "colab": {
      "name": "pattern_5.ipynb",
      "provenance": [],
      "authorship_tag": "ABX9TyO5JZlM/bWp8GdMx7LyRIsj",
      "include_colab_link": true
    },
    "kernelspec": {
      "name": "python3",
      "display_name": "Python 3"
    },
    "language_info": {
      "name": "python"
    }
  },
  "cells": [
    {
      "cell_type": "markdown",
      "metadata": {
        "id": "view-in-github",
        "colab_type": "text"
      },
      "source": [
        "<a href=\"https://colab.research.google.com/github/Rakesh-Online/Pattern_programming_python/blob/master/pattern_5.ipynb\" target=\"_parent\"><img src=\"https://colab.research.google.com/assets/colab-badge.svg\" alt=\"Open In Colab\"/></a>"
      ]
    },
    {
      "cell_type": "code",
      "metadata": {
        "colab": {
          "base_uri": "https://localhost:8080/"
        },
        "id": "R4IwwpUWjSxv",
        "outputId": "69204e3b-a811-4295-a5e1-a56542600ce1"
      },
      "source": [
        "n = int(input(\"enter the number\"))\n",
        "for i in range(1,n+1):\n",
        "  for j in range(1,2*n):\n",
        "    if i==n or i+j==n+1 or j-i ==n-1:\n",
        "      print('*', end= \"\")\n",
        "    else:\n",
        "      print(end = \" \")\n",
        "  print()\n"
      ],
      "execution_count": null,
      "outputs": [
        {
          "output_type": "stream",
          "text": [
            "enter the number5\n",
            "    *    \n",
            "   * *   \n",
            "  *   *  \n",
            " *     * \n",
            "*********\n"
          ],
          "name": "stdout"
        }
      ]
    },
    {
      "cell_type": "code",
      "metadata": {
        "id": "s_l5xYQJlS-4",
        "colab": {
          "base_uri": "https://localhost:8080/"
        },
        "outputId": "e8220b61-f0ef-4bf6-91a9-13c2c7105da0"
      },
      "source": [
        "for i in range(6):\n",
        "    for j in range(7):\n",
        "        if (i==0 and j % 3!= 0) or (i==1 and j%3==0) or (i-j==2) or (i+j==8):\n",
        "            print(\"*\", end= \" \")\n",
        "        else:\n",
        "            print(\" \", end = \" \")\n",
        "\n",
        "    print()\n"
      ],
      "execution_count": null,
      "outputs": [
        {
          "output_type": "stream",
          "text": [
            "  * *   * *   \n",
            "*     *     * \n",
            "*           * \n",
            "  *       *   \n",
            "    *   *     \n",
            "      *       \n"
          ],
          "name": "stdout"
        }
      ]
    },
    {
      "cell_type": "code",
      "metadata": {
        "id": "hUgbymKRqtHs",
        "colab": {
          "base_uri": "https://localhost:8080/"
        },
        "outputId": "0bd8b50e-a33f-4e19-dab4-774bc0c2da51"
      },
      "source": [
        "n = int(input(\"Enter a number : \"))\n",
        "for i in range(0,n):\n",
        "    for j in range(0,n):\n",
        "        if i==0 or j==n-1 or i ==j:\n",
        "            print(\"*\", end= \"\")\n",
        "        else:\n",
        "            print(\" \", end= \"\")\n",
        "\n",
        "    print()"
      ],
      "execution_count": null,
      "outputs": [
        {
          "output_type": "stream",
          "text": [
            "Enter a number : 7\n",
            "*******\n",
            " *    *\n",
            "  *   *\n",
            "   *  *\n",
            "    * *\n",
            "     **\n",
            "      *\n"
          ],
          "name": "stdout"
        }
      ]
    },
    {
      "cell_type": "code",
      "metadata": {
        "id": "FVWRSHoa9QYg",
        "colab": {
          "base_uri": "https://localhost:8080/"
        },
        "outputId": "9739cb75-72e7-43aa-b2b8-9fd85860ebfd"
      },
      "source": [
        "str1 = ''\n",
        "for i in range(7):\n",
        "    for j in range(5):\n",
        "        if (j == 0 or j==4) or ((i==0 or i==3) and (j>0 and j <4 )):\n",
        "            str1 = str1 +'*'\n",
        "        else:\n",
        "            str1 = str1 + ' '\n",
        "    str1 = str1+'\\n'\n",
        "\n",
        "print(str1)"
      ],
      "execution_count": null,
      "outputs": [
        {
          "output_type": "stream",
          "text": [
            "*****\n",
            "*   *\n",
            "*   *\n",
            "*****\n",
            "*   *\n",
            "*   *\n",
            "*   *\n",
            "\n"
          ],
          "name": "stdout"
        }
      ]
    },
    {
      "cell_type": "code",
      "metadata": {
        "id": "hsadnDf2sisu",
        "outputId": "fead1222-e8fa-42f0-f633-57b27554916a",
        "colab": {
          "base_uri": "https://localhost:8080/"
        }
      },
      "source": [
        "str=\"\";    \n",
        "for Row in range(0,7):    \n",
        "    for Col in range(0,7):     \n",
        "        if (Col == 1 or ((Row == 0 or Row == 3 or Row == 6) and (Col < 5 and Col > 1)) or (Col == 5 and (Row != 0 and Row != 3 and Row != 6))) :  \n",
        "            str=str+\"*\"    \n",
        "        else:      \n",
        "            str=str+\" \"    \n",
        "    str=str+\"\\n\"    \n",
        "print(str);  "
      ],
      "execution_count": 7,
      "outputs": [
        {
          "output_type": "stream",
          "text": [
            " ****  \n",
            " *   * \n",
            " *   * \n",
            " ****  \n",
            " *   * \n",
            " *   * \n",
            " ****  \n",
            "\n"
          ],
          "name": "stdout"
        }
      ]
    },
    {
      "cell_type": "code",
      "metadata": {
        "id": "3KRgQI2nIIPI",
        "colab": {
          "base_uri": "https://localhost:8080/"
        },
        "outputId": "775a1750-c1e2-470a-efbc-eec4e8286ed8"
      },
      "source": [
        "for i in range(7):\n",
        "    for j in range(5):\n",
        "        if (j==0) or ((i == 0 or i ==6 )and (j >0)):\n",
        "            print(\"*\", end=\"\")\n",
        "        else:\n",
        "            print(end = \"\")\n",
        "    print()"
      ],
      "execution_count": null,
      "outputs": [
        {
          "output_type": "stream",
          "text": [
            "*****\n",
            "*\n",
            "*\n",
            "*\n",
            "*\n",
            "*\n",
            "*****\n"
          ],
          "name": "stdout"
        }
      ]
    },
    {
      "cell_type": "code",
      "metadata": {
        "id": "ZfttvPLPXf53"
      },
      "source": [
        ""
      ],
      "execution_count": null,
      "outputs": []
    }
  ]
}