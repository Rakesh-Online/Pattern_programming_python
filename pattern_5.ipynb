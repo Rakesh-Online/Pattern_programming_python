{
  "nbformat": 4,
  "nbformat_minor": 0,
  "metadata": {
    "colab": {
      "name": "pattern_5.ipynb",
      "provenance": [],
      "authorship_tag": "ABX9TyO/lIedK66qdutKFEJVLDsb",
      "include_colab_link": true
    },
    "kernelspec": {
      "name": "python3",
      "display_name": "Python 3"
    },
    "language_info": {
      "name": "python"
    }
  },
  "cells": [
    {
      "cell_type": "markdown",
      "metadata": {
        "id": "view-in-github",
        "colab_type": "text"
      },
      "source": [
        "<a href=\"https://colab.research.google.com/github/Rakesh-Online/Pattern_programming_python/blob/master/pattern_5.ipynb\" target=\"_parent\"><img src=\"https://colab.research.google.com/assets/colab-badge.svg\" alt=\"Open In Colab\"/></a>"
      ]
    },
    {
      "cell_type": "code",
      "metadata": {
        "colab": {
          "base_uri": "https://localhost:8080/"
        },
        "id": "R4IwwpUWjSxv",
        "outputId": "69204e3b-a811-4295-a5e1-a56542600ce1"
      },
      "source": [
        "n = int(input(\"enter the number\"))\n",
        "for i in range(1,n+1):\n",
        "  for j in range(1,2*n):\n",
        "    if i==n or i+j==n+1 or j-i ==n-1:\n",
        "      print('*', end= \"\")\n",
        "    else:\n",
        "      print(end = \" \")\n",
        "  print()\n"
      ],
      "execution_count": null,
      "outputs": [
        {
          "output_type": "stream",
          "text": [
            "enter the number5\n",
            "    *    \n",
            "   * *   \n",
            "  *   *  \n",
            " *     * \n",
            "*********\n"
          ],
          "name": "stdout"
        }
      ]
    },
    {
      "cell_type": "code",
      "metadata": {
        "id": "s_l5xYQJlS-4",
        "outputId": "e8220b61-f0ef-4bf6-91a9-13c2c7105da0",
        "colab": {
          "base_uri": "https://localhost:8080/"
        }
      },
      "source": [
        "for i in range(6):\n",
        "    for j in range(7):\n",
        "        if (i==0 and j % 3!= 0) or (i==1 and j%3==0) or (i-j==2) or (i+j==8):\n",
        "            print(\"*\", end= \" \")\n",
        "        else:\n",
        "            print(\" \", end = \" \")\n",
        "\n",
        "    print()\n"
      ],
      "execution_count": 5,
      "outputs": [
        {
          "output_type": "stream",
          "text": [
            "  * *   * *   \n",
            "*     *     * \n",
            "*           * \n",
            "  *       *   \n",
            "    *   *     \n",
            "      *       \n"
          ],
          "name": "stdout"
        }
      ]
    },
    {
      "cell_type": "code",
      "metadata": {
        "id": "hUgbymKRqtHs"
      },
      "source": [
        ""
      ],
      "execution_count": null,
      "outputs": []
    }
  ]
}