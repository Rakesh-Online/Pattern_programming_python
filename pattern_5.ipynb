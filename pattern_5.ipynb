{
  "nbformat": 4,
  "nbformat_minor": 0,
  "metadata": {
    "colab": {
      "name": "pattern_5.ipynb",
      "provenance": [],
      "authorship_tag": "ABX9TyN8/b2DcFeW8HWmz546vclJ",
      "include_colab_link": true
    },
    "kernelspec": {
      "name": "python3",
      "display_name": "Python 3"
    },
    "language_info": {
      "name": "python"
    }
  },
  "cells": [
    {
      "cell_type": "markdown",
      "metadata": {
        "id": "view-in-github",
        "colab_type": "text"
      },
      "source": [
        "<a href=\"https://colab.research.google.com/github/Rakesh-Online/Pattern_programming_python/blob/master/pattern_5.ipynb\" target=\"_parent\"><img src=\"https://colab.research.google.com/assets/colab-badge.svg\" alt=\"Open In Colab\"/></a>"
      ]
    },
    {
      "cell_type": "code",
      "metadata": {
        "colab": {
          "base_uri": "https://localhost:8080/"
        },
        "id": "R4IwwpUWjSxv",
        "outputId": "69204e3b-a811-4295-a5e1-a56542600ce1"
      },
      "source": [
        "n = int(input(\"enter the number\"))\n",
        "for i in range(1,n+1):\n",
        "  for j in range(1,2*n):\n",
        "    if i==n or i+j==n+1 or j-i ==n-1:\n",
        "      print('*', end= \"\")\n",
        "    else:\n",
        "      print(end = \" \")\n",
        "  print()\n"
      ],
      "execution_count": null,
      "outputs": [
        {
          "output_type": "stream",
          "text": [
            "enter the number5\n",
            "    *    \n",
            "   * *   \n",
            "  *   *  \n",
            " *     * \n",
            "*********\n"
          ],
          "name": "stdout"
        }
      ]
    },
    {
      "cell_type": "code",
      "metadata": {
        "id": "s_l5xYQJlS-4",
        "colab": {
          "base_uri": "https://localhost:8080/"
        },
        "outputId": "e8220b61-f0ef-4bf6-91a9-13c2c7105da0"
      },
      "source": [
        "for i in range(6):\n",
        "    for j in range(7):\n",
        "        if (i==0 and j % 3!= 0) or (i==1 and j%3==0) or (i-j==2) or (i+j==8):\n",
        "            print(\"*\", end= \" \")\n",
        "        else:\n",
        "            print(\" \", end = \" \")\n",
        "\n",
        "    print()\n"
      ],
      "execution_count": null,
      "outputs": [
        {
          "output_type": "stream",
          "text": [
            "  * *   * *   \n",
            "*     *     * \n",
            "*           * \n",
            "  *       *   \n",
            "    *   *     \n",
            "      *       \n"
          ],
          "name": "stdout"
        }
      ]
    },
    {
      "cell_type": "code",
      "metadata": {
        "id": "hUgbymKRqtHs",
        "colab": {
          "base_uri": "https://localhost:8080/"
        },
        "outputId": "0bd8b50e-a33f-4e19-dab4-774bc0c2da51"
      },
      "source": [
        "n = int(input(\"Enter a number : \"))\n",
        "for i in range(0,n):\n",
        "    for j in range(0,n):\n",
        "        if i==0 or j==n-1 or i ==j:\n",
        "            print(\"*\", end= \"\")\n",
        "        else:\n",
        "            print(\" \", end= \"\")\n",
        "\n",
        "    print()"
      ],
      "execution_count": null,
      "outputs": [
        {
          "output_type": "stream",
          "text": [
            "Enter a number : 7\n",
            "*******\n",
            " *    *\n",
            "  *   *\n",
            "   *  *\n",
            "    * *\n",
            "     **\n",
            "      *\n"
          ],
          "name": "stdout"
        }
      ]
    },
    {
      "cell_type": "code",
      "metadata": {
        "id": "FVWRSHoa9QYg",
        "colab": {
          "base_uri": "https://localhost:8080/"
        },
        "outputId": "9739cb75-72e7-43aa-b2b8-9fd85860ebfd"
      },
      "source": [
        "str1 = ''\n",
        "for i in range(7):\n",
        "    for j in range(5):\n",
        "        if (j == 0 or j==4) or ((i==0 or i==3) and (j>0 and j <4 )):\n",
        "            str1 = str1 +'*'\n",
        "        else:\n",
        "            str1 = str1 + ' '\n",
        "    str1 = str1+'\\n'\n",
        "\n",
        "print(str1)"
      ],
      "execution_count": null,
      "outputs": [
        {
          "output_type": "stream",
          "text": [
            "*****\n",
            "*   *\n",
            "*   *\n",
            "*****\n",
            "*   *\n",
            "*   *\n",
            "*   *\n",
            "\n"
          ],
          "name": "stdout"
        }
      ]
    },
    {
      "cell_type": "code",
      "metadata": {
        "id": "hsadnDf2sisu",
        "colab": {
          "base_uri": "https://localhost:8080/"
        },
        "outputId": "fead1222-e8fa-42f0-f633-57b27554916a"
      },
      "source": [
        "str=\"\";    \n",
        "for Row in range(0,7):    \n",
        "    for Col in range(0,7):     \n",
        "        if (Col == 1 or ((Row == 0 or Row == 3 or Row == 6) and (Col < 5 and Col > 1)) or (Col == 5 and (Row != 0 and Row != 3 and Row != 6))) :  \n",
        "            str=str+\"*\"    \n",
        "        else:      \n",
        "            str=str+\" \"    \n",
        "    str=str+\"\\n\"    \n",
        "print(str);  "
      ],
      "execution_count": null,
      "outputs": [
        {
          "output_type": "stream",
          "text": [
            " ****  \n",
            " *   * \n",
            " *   * \n",
            " ****  \n",
            " *   * \n",
            " *   * \n",
            " ****  \n",
            "\n"
          ],
          "name": "stdout"
        }
      ]
    },
    {
      "cell_type": "code",
      "metadata": {
        "id": "3KRgQI2nIIPI",
        "colab": {
          "base_uri": "https://localhost:8080/"
        },
        "outputId": "775a1750-c1e2-470a-efbc-eec4e8286ed8"
      },
      "source": [
        "for i in range(7):\n",
        "    for j in range(5):\n",
        "        if (j==0) or ((i == 0 or i ==6 )and (j >0)):\n",
        "            print(\"*\", end=\"\")\n",
        "        else:\n",
        "            print(end = \"\")\n",
        "    print()"
      ],
      "execution_count": null,
      "outputs": [
        {
          "output_type": "stream",
          "text": [
            "*****\n",
            "*\n",
            "*\n",
            "*\n",
            "*\n",
            "*\n",
            "*****\n"
          ],
          "name": "stdout"
        }
      ]
    },
    {
      "cell_type": "code",
      "metadata": {
        "id": "ZfttvPLPXf53",
        "colab": {
          "base_uri": "https://localhost:8080/"
        },
        "outputId": "524152be-891b-48a5-a75a-08c0966cefd6"
      },
      "source": [
        "result_str=\"\";    \n",
        "for i in range(0,7):    \n",
        "    for j in range(0,7):     \n",
        "        if (j == 1 or ((i == 0 or i== 6) and (j > 1 and j < 5)) or (j == 5 and i != 0 and i!= 6)):  \n",
        "            result_str=result_str+\"*\"    \n",
        "        else:      \n",
        "            result_str=result_str+\" \"    \n",
        "    result_str=result_str+\"\\n\"    \n",
        "print(result_str);"
      ],
      "execution_count": null,
      "outputs": [
        {
          "output_type": "stream",
          "text": [
            " ****  \n",
            " *   * \n",
            " *   * \n",
            " *   * \n",
            " *   * \n",
            " *   * \n",
            " ****  \n",
            "\n"
          ],
          "name": "stdout"
        }
      ]
    },
    {
      "cell_type": "code",
      "metadata": {
        "id": "60woWA5B_1ke",
        "colab": {
          "base_uri": "https://localhost:8080/"
        },
        "outputId": "3ffc1b15-8b9f-42f4-a8fc-352eadef3689"
      },
      "source": [
        "for i in range(7):\n",
        "    for j in range(5):\n",
        "        if j==0 or ((i==0 or i==3 or i==6) and (j>0)):\n",
        "            print(\"*\", end=\"\")\n",
        "        else:\n",
        "            print(end= \" \")\n",
        "    print()\n"
      ],
      "execution_count": null,
      "outputs": [
        {
          "output_type": "stream",
          "text": [
            "*****\n",
            "*    \n",
            "*    \n",
            "*****\n",
            "*    \n",
            "*    \n",
            "*****\n"
          ],
          "name": "stdout"
        }
      ]
    },
    {
      "cell_type": "code",
      "metadata": {
        "id": "WAC2PL5LeisH",
        "colab": {
          "base_uri": "https://localhost:8080/"
        },
        "outputId": "ad0164a1-48a2-47c4-981a-dea04c8cab5e"
      },
      "source": [
        "for i in range(7):\n",
        "    for j in range(5):\n",
        "        if (j==0) or ((i==0 or i==3) and j>0):\n",
        "            print(\"*\", end= \"\")\n",
        "        else:\n",
        "            print(end=\" \")\n",
        "    print()"
      ],
      "execution_count": null,
      "outputs": [
        {
          "output_type": "stream",
          "text": [
            "*****\n",
            "*    \n",
            "*    \n",
            "*****\n",
            "*    \n",
            "*    \n",
            "*    \n"
          ],
          "name": "stdout"
        }
      ]
    },
    {
      "cell_type": "code",
      "metadata": {
        "id": "kH7I8rN5i_-Q",
        "colab": {
          "base_uri": "https://localhost:8080/"
        },
        "outputId": "cb7e1870-78b8-4e86-eaa5-72d691be2570"
      },
      "source": [
        "for i in range(7):\n",
        "    for j in range(5):\n",
        "        if j==0 or (j==4 and (i!=1 and i!=2)) or ((i==0 or i==6) and (j>0 and j<4)) or (i==3 and (j==3 or j==5)):\n",
        "            print(\"*\", end= \"\")\n",
        "        else:\n",
        "            print(end=\" \")\n",
        "    print()"
      ],
      "execution_count": null,
      "outputs": [
        {
          "output_type": "stream",
          "text": [
            "*****\n",
            "*    \n",
            "*    \n",
            "*  **\n",
            "*   *\n",
            "*   *\n",
            "*****\n"
          ],
          "name": "stdout"
        }
      ]
    },
    {
      "cell_type": "code",
      "metadata": {
        "id": "-tbgkeYXu-l7",
        "outputId": "632af40e-c1bd-4250-e3df-ce86e55807dd",
        "colab": {
          "base_uri": "https://localhost:8080/"
        }
      },
      "source": [
        "for i in range(7):\n",
        "    for j in range(5):\n",
        "        if j==0 or (j==4 and (i!=1 and i!=2)) or ((i==0 or i==6) and (j>0 and j<4)) or (i==0 and (j==3 or j==5)):\n",
        "            print(\"*\", end= \"\")\n",
        "        else:\n",
        "            print(end=\" \")\n",
        "    print()"
      ],
      "execution_count": 2,
      "outputs": [
        {
          "output_type": "stream",
          "text": [
            "*****\n",
            "*    \n",
            "*    \n",
            "*   *\n",
            "*   *\n",
            "*   *\n",
            "*****\n"
          ],
          "name": "stdout"
        }
      ]
    },
    {
      "cell_type": "code",
      "metadata": {
        "id": "W_8RQPGIBiN-"
      },
      "source": [
        ""
      ],
      "execution_count": null,
      "outputs": []
    }
  ]
}