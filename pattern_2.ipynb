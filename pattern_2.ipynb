{
  "nbformat": 4,
  "nbformat_minor": 0,
  "metadata": {
    "colab": {
      "name": "pattern_2.ipynb",
      "provenance": [],
      "authorship_tag": "ABX9TyPupo8k0MdOhUZI0jREXq+s",
      "include_colab_link": true
    },
    "kernelspec": {
      "name": "python3",
      "display_name": "Python 3"
    }
  },
  "cells": [
    {
      "cell_type": "markdown",
      "metadata": {
        "id": "view-in-github",
        "colab_type": "text"
      },
      "source": [
        "<a href=\"https://colab.research.google.com/github/Rakesh-Online/Pattern_programming_python/blob/master/pattern_2.ipynb\" target=\"_parent\"><img src=\"https://colab.research.google.com/assets/colab-badge.svg\" alt=\"Open In Colab\"/></a>"
      ]
    },
    {
      "cell_type": "code",
      "metadata": {
        "colab": {
          "base_uri": "https://localhost:8080/"
        },
        "id": "R1Q_pYNF30QD",
        "outputId": "adb0c45f-f9cd-4ee9-95dd-7c1303373ae1"
      },
      "source": [
        "n = int(input(\"Enter number:\"))\r\n",
        "for i in range(n):#0,1,2,3,4\r\n",
        "  for j in range(n-i):\r\n",
        "    print(j+1 , end = \"\")\r\n",
        "  print()"
      ],
      "execution_count": 5,
      "outputs": [
        {
          "output_type": "stream",
          "text": [
            "Enter number:5\n",
            "12345\n",
            "1234\n",
            "123\n",
            "12\n",
            "1\n"
          ],
          "name": "stdout"
        }
      ]
    },
    {
      "cell_type": "code",
      "metadata": {
        "colab": {
          "base_uri": "https://localhost:8080/"
        },
        "id": "1Ctn5ITE5NCL",
        "outputId": "76618998-11bc-42f4-bf38-34eee5eb5c5e"
      },
      "source": [
        "n = int(input(\"Enter number:\"))\r\n",
        "for i in range(n):#0,1,2,3,4\r\n",
        "  for j in range(n-i):\r\n",
        "    print(chr(65+j) , end = \"\")\r\n",
        "  print()"
      ],
      "execution_count": 6,
      "outputs": [
        {
          "output_type": "stream",
          "text": [
            "Enter number:5\n",
            "ABCDE\n",
            "ABCD\n",
            "ABC\n",
            "AB\n",
            "A\n"
          ],
          "name": "stdout"
        }
      ]
    },
    {
      "cell_type": "code",
      "metadata": {
        "colab": {
          "base_uri": "https://localhost:8080/"
        },
        "id": "Tiaor1m46yL6",
        "outputId": "757dd4b0-5deb-49c1-f236-96d1a137d7fa"
      },
      "source": [
        "n = int(input(\"Enter number:\"))\r\n",
        "for i in range(n):#0,1,2,3,4\r\n",
        "  for j in range(n-i):\r\n",
        "    print(n-j , end = \"\")\r\n",
        "  print()"
      ],
      "execution_count": 7,
      "outputs": [
        {
          "output_type": "stream",
          "text": [
            "Enter number:5\n",
            "54321\n",
            "5432\n",
            "543\n",
            "54\n",
            "5\n"
          ],
          "name": "stdout"
        }
      ]
    },
    {
      "cell_type": "code",
      "metadata": {
        "colab": {
          "base_uri": "https://localhost:8080/"
        },
        "id": "D0gMqyNx5-wP",
        "outputId": "ac004282-f4e1-48ee-b745-0eaa7e9c04e1"
      },
      "source": [
        "n = int(input(\"Enter number:\"))\r\n",
        "for i in range(n):#0,1,2,3,4\r\n",
        "  for j in range(n-i):\r\n",
        "    print(chr(64+n-j) , end = \"\")\r\n",
        "  print()"
      ],
      "execution_count": 9,
      "outputs": [
        {
          "output_type": "stream",
          "text": [
            "Enter number:5\n",
            "EDCBA\n",
            "EDCB\n",
            "EDC\n",
            "ED\n",
            "E\n"
          ],
          "name": "stdout"
        }
      ]
    },
    {
      "cell_type": "code",
      "metadata": {
        "colab": {
          "base_uri": "https://localhost:8080/"
        },
        "id": "hhIR2MKNIS7Q",
        "outputId": "83c78a5a-c07c-4d7a-9f7c-67cf1b61538e"
      },
      "source": [
        "n = int(input(\"Enter number:\"))\r\n",
        "for i in range(n):\r\n",
        "  print((n-i)*(\"* \"))"
      ],
      "execution_count": 77,
      "outputs": [
        {
          "output_type": "stream",
          "text": [
            "Enter number:4\n",
            "* * * * \n",
            "* * * \n",
            "* * \n",
            "* \n"
          ],
          "name": "stdout"
        }
      ]
    },
    {
      "cell_type": "code",
      "metadata": {
        "colab": {
          "base_uri": "https://localhost:8080/"
        },
        "id": "yKtajzTv8AR4",
        "outputId": "d81e3535-ecd7-4ce4-b734-487495454e81"
      },
      "source": [
        "\\n =int(input(\"Enter number:\"))\r\n",
        "for i in range(n): #0,1,2,3\r\n",
        "  print((str(n-i)+ \" \")*n)\r\n"
      ],
      "execution_count": 28,
      "outputs": [
        {
          "output_type": "stream",
          "text": [
            "Enter number:4\n",
            "4 4 4 4 \n",
            "3 3 3 3 \n",
            "2 2 2 2 \n",
            "1 1 1 1 \n"
          ],
          "name": "stdout"
        }
      ]
    },
    {
      "cell_type": "code",
      "metadata": {
        "colab": {
          "base_uri": "https://localhost:8080/"
        },
        "id": "oBRIDbPn882c",
        "outputId": "35f86859-05b1-488c-a674-20b561f57552"
      },
      "source": [
        "n =int(input(\"Enter number:\"))\r\n",
        "for i in range(n): #0,1,2,3\r\n",
        "  print((chr(64+n-i)+ \" \")*n)\r\n"
      ],
      "execution_count": 35,
      "outputs": [
        {
          "output_type": "stream",
          "text": [
            "Enter number:5\n",
            "E E E E E \n",
            "D D D D D \n",
            "C C C C C \n",
            "B B B B B \n",
            "A A A A A \n"
          ],
          "name": "stdout"
        }
      ]
    },
    {
      "cell_type": "code",
      "metadata": {
        "colab": {
          "base_uri": "https://localhost:8080/"
        },
        "id": "V46FdFTNARcr",
        "outputId": "8f0dce12-b75d-48a4-ae65-18fc8b4f5f0f"
      },
      "source": [
        "n =int(input(\"Enter number:\"))\r\n",
        "for i in range(n):\r\n",
        "  for j in range(n):\r\n",
        "    print(n-j , end= \" \")\r\n",
        "  print()"
      ],
      "execution_count": 45,
      "outputs": [
        {
          "output_type": "stream",
          "text": [
            "3 2 1 \n",
            "3 2 1 \n",
            "3 2 1 \n"
          ],
          "name": "stdout"
        }
      ]
    },
    {
      "cell_type": "code",
      "metadata": {
        "colab": {
          "base_uri": "https://localhost:8080/"
        },
        "id": "MlnLhV1hAapq",
        "outputId": "066c3c06-cb0c-4482-e027-9affdef31ea4"
      },
      "source": [
        "n =int(input(\"Enter number:\"))\r\n",
        "for i in range(n):\r\n",
        "  for j in range(n):\r\n",
        "    print(chr(64+n-j) , end= \" \")\r\n",
        "  print()"
      ],
      "execution_count": 47,
      "outputs": [
        {
          "output_type": "stream",
          "text": [
            "C B A \n",
            "C B A \n",
            "C B A \n"
          ],
          "name": "stdout"
        }
      ]
    },
    {
      "cell_type": "code",
      "metadata": {
        "colab": {
          "base_uri": "https://localhost:8080/"
        },
        "id": "i3e7gIWLCqJX",
        "outputId": "b6e87a83-7584-40ba-d489-d0273c78f216"
      },
      "source": [
        "n = int(input(\"Enter number:\"))\r\n",
        "\r\n",
        "for i in range(n): #0,1,2,\r\n",
        "  print((i+1)*(\"*\"))"
      ],
      "execution_count": 53,
      "outputs": [
        {
          "output_type": "stream",
          "text": [
            "Enter number:5\n",
            "*\n",
            "**\n",
            "***\n",
            "****\n",
            "*****\n"
          ],
          "name": "stdout"
        }
      ]
    },
    {
      "cell_type": "code",
      "metadata": {
        "colab": {
          "base_uri": "https://localhost:8080/"
        },
        "id": "hxMTZE41DsCk",
        "outputId": "07d3d1ae-1634-4eb9-a7a0-95218217f74c"
      },
      "source": [
        "n = int(input(\"Enter number:\"))\r\n",
        "\r\n",
        "for i in range(n): #0,1,2,\r\n",
        "  print((i+1)*(str(i+1)+\" \"))"
      ],
      "execution_count": 61,
      "outputs": [
        {
          "output_type": "stream",
          "text": [
            "Enter number:4\n",
            "1 \n",
            "2 2 \n",
            "3 3 3 \n",
            "4 4 4 4 \n"
          ],
          "name": "stdout"
        }
      ]
    },
    {
      "cell_type": "code",
      "metadata": {
        "colab": {
          "base_uri": "https://localhost:8080/"
        },
        "id": "qIH9tcPvFsQx",
        "outputId": "9901c3cb-6f2c-4880-eab7-924360fd3ff5"
      },
      "source": [
        "n= int(input(\"Enter number:\"))\r\n",
        "for i in range(n):#0,1,2,3,4\r\n",
        "  for j in range(i+1):\r\n",
        "    print(j+1, end = \" \")\r\n",
        "  print()"
      ],
      "execution_count": 71,
      "outputs": [
        {
          "output_type": "stream",
          "text": [
            "Enter number:5\n",
            "1 \n",
            "1 2 \n",
            "1 2 3 \n",
            "1 2 3 4 \n",
            "1 2 3 4 5 \n"
          ],
          "name": "stdout"
        }
      ]
    },
    {
      "cell_type": "code",
      "metadata": {
        "colab": {
          "base_uri": "https://localhost:8080/"
        },
        "id": "B-gcbS04F9xM",
        "outputId": "60a48a1d-89b3-44f2-a35d-7dc3ff2fb5a8"
      },
      "source": [
        "n= int(input(\"Enter number:\"))\r\n",
        "for i in range(n):#0,1,2,3,4\r\n",
        "  for j in range(i+1):\r\n",
        "    print(chr(65+j), end = \" \")\r\n",
        "  print()"
      ],
      "execution_count": 70,
      "outputs": [
        {
          "output_type": "stream",
          "text": [
            "Enter number:5\n",
            "A \n",
            "A B \n",
            "A B C \n",
            "A B C D \n",
            "A B C D E \n"
          ],
          "name": "stdout"
        }
      ]
    }
  ]
}